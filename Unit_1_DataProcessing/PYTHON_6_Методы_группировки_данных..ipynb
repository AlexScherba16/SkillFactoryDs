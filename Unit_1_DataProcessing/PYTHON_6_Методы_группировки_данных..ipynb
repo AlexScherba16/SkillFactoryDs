{
 "cells": [
  {
   "cell_type": "code",
   "execution_count": 1,
   "metadata": {},
   "outputs": [],
   "source": [
    "import pandas as pd"
   ]
  },
  {
   "cell_type": "code",
   "execution_count": 2,
   "metadata": {},
   "outputs": [
    {
     "data": {
      "text/html": [
       "<div>\n",
       "<style scoped>\n",
       "    .dataframe tbody tr th:only-of-type {\n",
       "        vertical-align: middle;\n",
       "    }\n",
       "\n",
       "    .dataframe tbody tr th {\n",
       "        vertical-align: top;\n",
       "    }\n",
       "\n",
       "    .dataframe thead th {\n",
       "        text-align: right;\n",
       "    }\n",
       "</style>\n",
       "<table border=\"1\" class=\"dataframe\">\n",
       "  <thead>\n",
       "    <tr style=\"text-align: right;\">\n",
       "      <th></th>\n",
       "      <th>Name</th>\n",
       "      <th>Age</th>\n",
       "      <th>Nationality</th>\n",
       "      <th>Club</th>\n",
       "      <th>Value</th>\n",
       "      <th>Wage</th>\n",
       "      <th>Position</th>\n",
       "    </tr>\n",
       "  </thead>\n",
       "  <tbody>\n",
       "    <tr>\n",
       "      <th>0</th>\n",
       "      <td>L. Messi</td>\n",
       "      <td>31</td>\n",
       "      <td>Argentina</td>\n",
       "      <td>FC Barcelona</td>\n",
       "      <td>110500000</td>\n",
       "      <td>565000</td>\n",
       "      <td>RF</td>\n",
       "    </tr>\n",
       "    <tr>\n",
       "      <th>1</th>\n",
       "      <td>Cristiano Ronaldo</td>\n",
       "      <td>33</td>\n",
       "      <td>Portugal</td>\n",
       "      <td>Juventus</td>\n",
       "      <td>77000000</td>\n",
       "      <td>405000</td>\n",
       "      <td>ST</td>\n",
       "    </tr>\n",
       "    <tr>\n",
       "      <th>2</th>\n",
       "      <td>Neymar Jr</td>\n",
       "      <td>26</td>\n",
       "      <td>Brazil</td>\n",
       "      <td>Paris Saint-Germain</td>\n",
       "      <td>118500000</td>\n",
       "      <td>290000</td>\n",
       "      <td>LW</td>\n",
       "    </tr>\n",
       "    <tr>\n",
       "      <th>3</th>\n",
       "      <td>De Gea</td>\n",
       "      <td>27</td>\n",
       "      <td>Spain</td>\n",
       "      <td>Manchester United</td>\n",
       "      <td>72000000</td>\n",
       "      <td>260000</td>\n",
       "      <td>GK</td>\n",
       "    </tr>\n",
       "    <tr>\n",
       "      <th>4</th>\n",
       "      <td>K. De Bruyne</td>\n",
       "      <td>27</td>\n",
       "      <td>Belgium</td>\n",
       "      <td>Manchester City</td>\n",
       "      <td>102000000</td>\n",
       "      <td>355000</td>\n",
       "      <td>RCM</td>\n",
       "    </tr>\n",
       "    <tr>\n",
       "      <th>5</th>\n",
       "      <td>E. Hazard</td>\n",
       "      <td>27</td>\n",
       "      <td>Belgium</td>\n",
       "      <td>Chelsea</td>\n",
       "      <td>93000000</td>\n",
       "      <td>340000</td>\n",
       "      <td>LF</td>\n",
       "    </tr>\n",
       "    <tr>\n",
       "      <th>6</th>\n",
       "      <td>L. Modrić</td>\n",
       "      <td>32</td>\n",
       "      <td>Croatia</td>\n",
       "      <td>Real Madrid</td>\n",
       "      <td>67000000</td>\n",
       "      <td>420000</td>\n",
       "      <td>RCM</td>\n",
       "    </tr>\n",
       "    <tr>\n",
       "      <th>7</th>\n",
       "      <td>L. Suárez</td>\n",
       "      <td>31</td>\n",
       "      <td>Uruguay</td>\n",
       "      <td>FC Barcelona</td>\n",
       "      <td>80000000</td>\n",
       "      <td>455000</td>\n",
       "      <td>RS</td>\n",
       "    </tr>\n",
       "    <tr>\n",
       "      <th>8</th>\n",
       "      <td>Sergio Ramos</td>\n",
       "      <td>32</td>\n",
       "      <td>Spain</td>\n",
       "      <td>Real Madrid</td>\n",
       "      <td>51000000</td>\n",
       "      <td>380000</td>\n",
       "      <td>RCB</td>\n",
       "    </tr>\n",
       "    <tr>\n",
       "      <th>9</th>\n",
       "      <td>J. Oblak</td>\n",
       "      <td>25</td>\n",
       "      <td>Slovenia</td>\n",
       "      <td>Atlético Madrid</td>\n",
       "      <td>68000000</td>\n",
       "      <td>94000</td>\n",
       "      <td>GK</td>\n",
       "    </tr>\n",
       "    <tr>\n",
       "      <th>10</th>\n",
       "      <td>R. Lewandowski</td>\n",
       "      <td>29</td>\n",
       "      <td>Poland</td>\n",
       "      <td>FC Bayern München</td>\n",
       "      <td>77000000</td>\n",
       "      <td>205000</td>\n",
       "      <td>ST</td>\n",
       "    </tr>\n",
       "    <tr>\n",
       "      <th>11</th>\n",
       "      <td>T. Kroos</td>\n",
       "      <td>28</td>\n",
       "      <td>Germany</td>\n",
       "      <td>Real Madrid</td>\n",
       "      <td>76500000</td>\n",
       "      <td>355000</td>\n",
       "      <td>LCM</td>\n",
       "    </tr>\n",
       "    <tr>\n",
       "      <th>12</th>\n",
       "      <td>D. Godín</td>\n",
       "      <td>32</td>\n",
       "      <td>Uruguay</td>\n",
       "      <td>Atlético Madrid</td>\n",
       "      <td>44000000</td>\n",
       "      <td>125000</td>\n",
       "      <td>CB</td>\n",
       "    </tr>\n",
       "    <tr>\n",
       "      <th>13</th>\n",
       "      <td>David Silva</td>\n",
       "      <td>32</td>\n",
       "      <td>Spain</td>\n",
       "      <td>Manchester City</td>\n",
       "      <td>60000000</td>\n",
       "      <td>285000</td>\n",
       "      <td>LCM</td>\n",
       "    </tr>\n",
       "    <tr>\n",
       "      <th>14</th>\n",
       "      <td>N. Kanté</td>\n",
       "      <td>27</td>\n",
       "      <td>France</td>\n",
       "      <td>Chelsea</td>\n",
       "      <td>63000000</td>\n",
       "      <td>225000</td>\n",
       "      <td>LDM</td>\n",
       "    </tr>\n",
       "    <tr>\n",
       "      <th>15</th>\n",
       "      <td>P. Dybala</td>\n",
       "      <td>24</td>\n",
       "      <td>Argentina</td>\n",
       "      <td>Juventus</td>\n",
       "      <td>89000000</td>\n",
       "      <td>205000</td>\n",
       "      <td>LF</td>\n",
       "    </tr>\n",
       "    <tr>\n",
       "      <th>16</th>\n",
       "      <td>H. Kane</td>\n",
       "      <td>24</td>\n",
       "      <td>England</td>\n",
       "      <td>Tottenham Hotspur</td>\n",
       "      <td>83500000</td>\n",
       "      <td>205000</td>\n",
       "      <td>ST</td>\n",
       "    </tr>\n",
       "    <tr>\n",
       "      <th>17</th>\n",
       "      <td>A. Griezmann</td>\n",
       "      <td>27</td>\n",
       "      <td>France</td>\n",
       "      <td>Atlético Madrid</td>\n",
       "      <td>78000000</td>\n",
       "      <td>145000</td>\n",
       "      <td>CAM</td>\n",
       "    </tr>\n",
       "    <tr>\n",
       "      <th>18</th>\n",
       "      <td>M. ter Stegen</td>\n",
       "      <td>26</td>\n",
       "      <td>Germany</td>\n",
       "      <td>FC Barcelona</td>\n",
       "      <td>58000000</td>\n",
       "      <td>240000</td>\n",
       "      <td>GK</td>\n",
       "    </tr>\n",
       "    <tr>\n",
       "      <th>19</th>\n",
       "      <td>T. Courtois</td>\n",
       "      <td>26</td>\n",
       "      <td>Belgium</td>\n",
       "      <td>Real Madrid</td>\n",
       "      <td>53500000</td>\n",
       "      <td>240000</td>\n",
       "      <td>GK</td>\n",
       "    </tr>\n",
       "    <tr>\n",
       "      <th>20</th>\n",
       "      <td>Sergio Busquets</td>\n",
       "      <td>29</td>\n",
       "      <td>Spain</td>\n",
       "      <td>FC Barcelona</td>\n",
       "      <td>51500000</td>\n",
       "      <td>315000</td>\n",
       "      <td>CDM</td>\n",
       "    </tr>\n",
       "    <tr>\n",
       "      <th>21</th>\n",
       "      <td>E. Cavani</td>\n",
       "      <td>31</td>\n",
       "      <td>Uruguay</td>\n",
       "      <td>Paris Saint-Germain</td>\n",
       "      <td>60000000</td>\n",
       "      <td>200000</td>\n",
       "      <td>LS</td>\n",
       "    </tr>\n",
       "    <tr>\n",
       "      <th>22</th>\n",
       "      <td>M. Neuer</td>\n",
       "      <td>32</td>\n",
       "      <td>Germany</td>\n",
       "      <td>FC Bayern München</td>\n",
       "      <td>38000000</td>\n",
       "      <td>130000</td>\n",
       "      <td>GK</td>\n",
       "    </tr>\n",
       "    <tr>\n",
       "      <th>23</th>\n",
       "      <td>S. Agüero</td>\n",
       "      <td>30</td>\n",
       "      <td>Argentina</td>\n",
       "      <td>Manchester City</td>\n",
       "      <td>64500000</td>\n",
       "      <td>300000</td>\n",
       "      <td>ST</td>\n",
       "    </tr>\n",
       "    <tr>\n",
       "      <th>24</th>\n",
       "      <td>G. Chiellini</td>\n",
       "      <td>33</td>\n",
       "      <td>Italy</td>\n",
       "      <td>Juventus</td>\n",
       "      <td>27000000</td>\n",
       "      <td>215000</td>\n",
       "      <td>LCB</td>\n",
       "    </tr>\n",
       "  </tbody>\n",
       "</table>\n",
       "</div>"
      ],
      "text/plain": [
       "                 Name  Age Nationality                 Club      Value  \\\n",
       "0            L. Messi   31   Argentina         FC Barcelona  110500000   \n",
       "1   Cristiano Ronaldo   33    Portugal             Juventus   77000000   \n",
       "2           Neymar Jr   26      Brazil  Paris Saint-Germain  118500000   \n",
       "3              De Gea   27       Spain    Manchester United   72000000   \n",
       "4        K. De Bruyne   27     Belgium      Manchester City  102000000   \n",
       "5           E. Hazard   27     Belgium              Chelsea   93000000   \n",
       "6           L. Modrić   32     Croatia          Real Madrid   67000000   \n",
       "7           L. Suárez   31     Uruguay         FC Barcelona   80000000   \n",
       "8        Sergio Ramos   32       Spain          Real Madrid   51000000   \n",
       "9            J. Oblak   25    Slovenia      Atlético Madrid   68000000   \n",
       "10     R. Lewandowski   29      Poland    FC Bayern München   77000000   \n",
       "11           T. Kroos   28     Germany          Real Madrid   76500000   \n",
       "12           D. Godín   32     Uruguay      Atlético Madrid   44000000   \n",
       "13        David Silva   32       Spain      Manchester City   60000000   \n",
       "14           N. Kanté   27      France              Chelsea   63000000   \n",
       "15          P. Dybala   24   Argentina             Juventus   89000000   \n",
       "16            H. Kane   24     England    Tottenham Hotspur   83500000   \n",
       "17       A. Griezmann   27      France      Atlético Madrid   78000000   \n",
       "18      M. ter Stegen   26     Germany         FC Barcelona   58000000   \n",
       "19        T. Courtois   26     Belgium          Real Madrid   53500000   \n",
       "20    Sergio Busquets   29       Spain         FC Barcelona   51500000   \n",
       "21          E. Cavani   31     Uruguay  Paris Saint-Germain   60000000   \n",
       "22           M. Neuer   32     Germany    FC Bayern München   38000000   \n",
       "23          S. Agüero   30   Argentina      Manchester City   64500000   \n",
       "24       G. Chiellini   33       Italy             Juventus   27000000   \n",
       "\n",
       "      Wage Position  \n",
       "0   565000       RF  \n",
       "1   405000       ST  \n",
       "2   290000       LW  \n",
       "3   260000       GK  \n",
       "4   355000      RCM  \n",
       "5   340000       LF  \n",
       "6   420000      RCM  \n",
       "7   455000       RS  \n",
       "8   380000      RCB  \n",
       "9    94000       GK  \n",
       "10  205000       ST  \n",
       "11  355000      LCM  \n",
       "12  125000       CB  \n",
       "13  285000      LCM  \n",
       "14  225000      LDM  \n",
       "15  205000       LF  \n",
       "16  205000       ST  \n",
       "17  145000      CAM  \n",
       "18  240000       GK  \n",
       "19  240000       GK  \n",
       "20  315000      CDM  \n",
       "21  200000       LS  \n",
       "22  130000       GK  \n",
       "23  300000       ST  \n",
       "24  215000      LCB  "
      ]
     },
     "execution_count": 2,
     "metadata": {},
     "output_type": "execute_result"
    }
   ],
   "source": [
    "df = pd.read_csv('data_sf.csv')\n",
    "small_df = df[df.columns[1:8]].head(25)\n",
    "small_df"
   ]
  },
  {
   "cell_type": "code",
   "execution_count": 3,
   "metadata": {},
   "outputs": [
    {
     "data": {
      "text/plain": [
       "Index(['Unnamed: 0', 'Name', 'Age', 'Nationality', 'Club', 'Value', 'Wage',\n",
       "       'Position', 'Crossing', 'Finishing', 'HeadingAccuracy', 'ShortPassing',\n",
       "       'Volleys', 'Dribbling', 'Curve', 'FKAccuracy', 'LongPassing',\n",
       "       'BallControl', 'Acceleration', 'SprintSpeed', 'Agility', 'Reactions',\n",
       "       'Balance', 'ShotPower', 'Jumping', 'Stamina', 'Strength', 'LongShots',\n",
       "       'Aggression', 'Interceptions', 'Positioning', 'Vision', 'Penalties',\n",
       "       'Composure', 'Marking', 'StandingTackle', 'SlidingTackle', 'GKDiving',\n",
       "       'GKHandling', 'GKKicking', 'GKPositioning', 'GKReflexes'],\n",
       "      dtype='object')"
      ]
     },
     "execution_count": 3,
     "metadata": {},
     "output_type": "execute_result"
    }
   ],
   "source": [
    "df.columns"
   ]
  },
  {
   "cell_type": "code",
   "execution_count": 4,
   "metadata": {},
   "outputs": [
    {
     "data": {
      "text/plain": [
       "Spain        4\n",
       "Uruguay      3\n",
       "Argentina    3\n",
       "Germany      3\n",
       "Belgium      3\n",
       "France       2\n",
       "Portugal     1\n",
       "Croatia      1\n",
       "England      1\n",
       "Italy        1\n",
       "Poland       1\n",
       "Slovenia     1\n",
       "Brazil       1\n",
       "Name: Nationality, dtype: int64"
      ]
     },
     "metadata": {},
     "output_type": "display_data"
    }
   ],
   "source": [
    "s = small_df['Nationality'].value_counts()\n",
    "display(s)"
   ]
  },
  {
   "cell_type": "code",
   "execution_count": 5,
   "metadata": {},
   "outputs": [
    {
     "name": "stdout",
     "output_type": "stream",
     "text": [
      "<class 'pandas.core.indexes.base.Index'>\n",
      "<class 'str'>\n"
     ]
    }
   ],
   "source": [
    "s.index\n",
    "print(type(s.index))\n",
    "print(type(s.index[2]))"
   ]
  },
  {
   "cell_type": "code",
   "execution_count": 6,
   "metadata": {},
   "outputs": [
    {
     "data": {
      "text/plain": [
       "Spain        4\n",
       "Uruguay      3\n",
       "Argentina    3\n",
       "Germany      3\n",
       "Belgium      3\n",
       "France       2\n",
       "Name: Nationality, dtype: int64"
      ]
     },
     "execution_count": 6,
     "metadata": {},
     "output_type": "execute_result"
    }
   ],
   "source": [
    "s.loc[s > 1]"
   ]
  },
  {
   "cell_type": "markdown",
   "metadata": {},
   "source": [
    "## Сколько футбольных клубов представлено в датасете?"
   ]
  },
  {
   "cell_type": "code",
   "execution_count": 7,
   "metadata": {},
   "outputs": [
    {
     "name": "stdout",
     "output_type": "stream",
     "text": [
      "<class 'pandas.core.series.Series'> 650\n"
     ]
    }
   ],
   "source": [
    "clubs = df['Club'].value_counts()\n",
    "len(clubs)\n",
    "print(type(clubs), len(clubs))"
   ]
  },
  {
   "cell_type": "markdown",
   "metadata": {},
   "source": [
    "## Отметьте названия футбольных клубов, представленных в датасете наибольшим количеством игроков.\n"
   ]
  },
  {
   "cell_type": "code",
   "execution_count": 23,
   "metadata": {},
   "outputs": [
    {
     "data": {
      "text/plain": [
       "Shonan Bellmare      30\n",
       "V-Varen Nagasaki     30\n",
       "Padova               29\n",
       "Vissel Kobe          29\n",
       "De Graafschap        29\n",
       "                     ..\n",
       "Olympiacos CFP        8\n",
       "GD Chaves             7\n",
       "Vitória Guimarães     7\n",
       "Dinamo Zagreb         7\n",
       "Atlético Mineiro      6\n",
       "Name: Club, Length: 650, dtype: int64"
      ]
     },
     "execution_count": 23,
     "metadata": {},
     "output_type": "execute_result"
    }
   ],
   "source": [
    "clubs"
   ]
  },
  {
   "cell_type": "code",
   "execution_count": 24,
   "metadata": {},
   "outputs": [
    {
     "data": {
      "text/plain": [
       "6"
      ]
     },
     "execution_count": 24,
     "metadata": {},
     "output_type": "execute_result"
    }
   ],
   "source": [
    "players = df[df.Club == \"Atlético Mineiro\"]\n",
    "len(players)\n"
   ]
  },
  {
   "cell_type": "markdown",
   "metadata": {},
   "source": [
    "# Подсчет количества значений в процентах и по численным признакам\n",
    "\n",
    "## Подсчет количества значений в процентах\n",
    "\n",
    "Данные об игроках каких позиций (Position) занимают более 10% датасета?\n"
   ]
  },
  {
   "cell_type": "code",
   "execution_count": 10,
   "metadata": {},
   "outputs": [
    {
     "data": {
      "text/plain": [
       "GK    0.127239\n",
       "ST    0.117237\n",
       "CB    0.108785\n",
       "Name: Position, dtype: float64"
      ]
     },
     "execution_count": 10,
     "metadata": {},
     "output_type": "execute_result"
    }
   ],
   "source": [
    "ten_persent_positions = df[\"Position\"].value_counts(normalize = True)\n",
    "ten_persent_positions[ten_persent_positions > 0.1]"
   ]
  },
  {
   "cell_type": "markdown",
   "metadata": {},
   "source": [
    "## Данные об игроках каких позиций (Position) занимают менее 1% датасета?\n"
   ]
  },
  {
   "cell_type": "code",
   "execution_count": 11,
   "metadata": {},
   "outputs": [
    {
     "data": {
      "text/plain": [
       "LS     0.009382\n",
       "RS     0.008839\n",
       "RWB    0.005428\n",
       "LWB    0.004652\n",
       "CF     0.003954\n",
       "LF     0.000620\n",
       "RF     0.000465\n",
       "LAM    0.000465\n",
       "RAM    0.000388\n",
       "Name: Position, dtype: float64"
      ]
     },
     "execution_count": 11,
     "metadata": {},
     "output_type": "execute_result"
    }
   ],
   "source": [
    "one_persent_positions = df[\"Position\"].value_counts(normalize = True)\n",
    "one_persent_positions[one_persent_positions < 0.01]"
   ]
  },
  {
   "cell_type": "markdown",
   "metadata": {},
   "source": [
    "# Подсчет количества значений по численным признакам"
   ]
  },
  {
   "cell_type": "code",
   "execution_count": 40,
   "metadata": {},
   "outputs": [
    {
     "data": {
      "text/plain": [
       "(211750.0, 329500.0]     9\n",
       "(93528.999, 211750.0]    8\n",
       "(329500.0, 447250.0]     6\n",
       "(447250.0, 565000.0]     2\n",
       "Name: Wage, dtype: int64"
      ]
     },
     "metadata": {},
     "output_type": "display_data"
    },
    {
     "data": {
      "text/html": [
       "<div>\n",
       "<style scoped>\n",
       "    .dataframe tbody tr th:only-of-type {\n",
       "        vertical-align: middle;\n",
       "    }\n",
       "\n",
       "    .dataframe tbody tr th {\n",
       "        vertical-align: top;\n",
       "    }\n",
       "\n",
       "    .dataframe thead th {\n",
       "        text-align: right;\n",
       "    }\n",
       "</style>\n",
       "<table border=\"1\" class=\"dataframe\">\n",
       "  <thead>\n",
       "    <tr style=\"text-align: right;\">\n",
       "      <th></th>\n",
       "      <th>Unnamed: 0</th>\n",
       "      <th>Name</th>\n",
       "      <th>Age</th>\n",
       "      <th>Nationality</th>\n",
       "      <th>Club</th>\n",
       "      <th>Value</th>\n",
       "      <th>Wage</th>\n",
       "    </tr>\n",
       "  </thead>\n",
       "  <tbody>\n",
       "    <tr>\n",
       "      <th>0</th>\n",
       "      <td>0</td>\n",
       "      <td>L. Messi</td>\n",
       "      <td>31</td>\n",
       "      <td>Argentina</td>\n",
       "      <td>FC Barcelona</td>\n",
       "      <td>110500000</td>\n",
       "      <td>565000</td>\n",
       "    </tr>\n",
       "    <tr>\n",
       "      <th>7</th>\n",
       "      <td>7</td>\n",
       "      <td>L. Suárez</td>\n",
       "      <td>31</td>\n",
       "      <td>Uruguay</td>\n",
       "      <td>FC Barcelona</td>\n",
       "      <td>80000000</td>\n",
       "      <td>455000</td>\n",
       "    </tr>\n",
       "  </tbody>\n",
       "</table>\n",
       "</div>"
      ],
      "text/plain": [
       "   Unnamed: 0       Name  Age Nationality          Club      Value    Wage\n",
       "0           0   L. Messi   31   Argentina  FC Barcelona  110500000  565000\n",
       "7           7  L. Suárez   31     Uruguay  FC Barcelona   80000000  455000"
      ]
     },
     "execution_count": 40,
     "metadata": {},
     "output_type": "execute_result"
    }
   ],
   "source": [
    "small_df = df[df.columns[0:7]].head(25)\n",
    "s = small_df[\"Wage\"].value_counts(bins=4)\n",
    "display(s)\n",
    "\n",
    "# s.index\n",
    "param = s.index[3]\n",
    "param = small_df.loc[(small_df['Wage'] > s.index[3].left) & (small_df['Wage'] <= s.index[3].right)]\n",
    "param\n",
    "\n"
   ]
  },
  {
   "cell_type": "markdown",
   "metadata": {},
   "source": [
    "## В каких пределах находятся худшие 20% показателей точности ударов ногой (FKAccuracy)?"
   ]
  },
  {
   "cell_type": "code",
   "execution_count": 62,
   "metadata": {},
   "outputs": [
    {
     "data": {
      "text/plain": [
       "32    0.029619\n",
       "35    0.027991\n",
       "42    0.027526\n",
       "40    0.027371\n",
       "39    0.026595\n",
       "        ...   \n",
       "3     0.000078\n",
       "90    0.000078\n",
       "92    0.000078\n",
       "93    0.000078\n",
       "94    0.000078\n",
       "Name: FKAccuracy, Length: 89, dtype: float64"
      ]
     },
     "execution_count": 62,
     "metadata": {},
     "output_type": "execute_result"
    }
   ],
   "source": [
    "left_leg_accuracy = df[\"FKAccuracy\"].value_counts(normalize = True)\n",
    "left_leg_accuracy = left_leg_accuracy[left_leg_accuracy < 0.2]\n",
    "left_leg_accuracy"
   ]
  },
  {
   "cell_type": "markdown",
   "metadata": {},
   "source": [
    "## Какие показатели точности ударов ногой демонстрирует большинство футболистов?"
   ]
  },
  {
   "cell_type": "code",
   "execution_count": 65,
   "metadata": {},
   "outputs": [
    {
     "data": {
      "text/plain": [
       "0.02961929130805614"
      ]
     },
     "execution_count": 65,
     "metadata": {},
     "output_type": "execute_result"
    }
   ],
   "source": [
    "left_leg_accuracy = df[\"FKAccuracy\"].value_counts(normalize = True)\n",
    "left_leg_accuracy.iloc[0]"
   ]
  },
  {
   "cell_type": "markdown",
   "metadata": {},
   "source": [
    "# Функции unique и nunique и преобразование серии value_counts в датафрейм"
   ]
  },
  {
   "cell_type": "markdown",
   "metadata": {},
   "source": [
    "## переменная result будет содержать количество видов позиций (Position), которые занимают игроки, представленные в датасете:"
   ]
  },
  {
   "cell_type": "code",
   "execution_count": 76,
   "metadata": {},
   "outputs": [
    {
     "data": {
      "text/plain": [
       "array(['RF', 'ST', 'LW', 'GK', 'RCM', 'LF', 'RS', 'RCB', 'LCM', 'CB',\n",
       "       'LDM', 'CAM', 'CDM', 'LS', 'LCB', 'RM', 'LAM', 'LM', 'LB', 'RDM',\n",
       "       'RW', 'CM', 'RB', 'RAM', 'CF', 'RWB', 'LWB'], dtype=object)"
      ]
     },
     "execution_count": 76,
     "metadata": {},
     "output_type": "execute_result"
    }
   ],
   "source": [
    "position_s = df[\"Position\"]\n",
    "position_s.unique()"
   ]
  },
  {
   "cell_type": "code",
   "execution_count": 74,
   "metadata": {},
   "outputs": [
    {
     "data": {
      "text/plain": [
       "27"
      ]
     },
     "execution_count": 74,
     "metadata": {},
     "output_type": "execute_result"
    }
   ],
   "source": [
    "len(df[\"Position\"].value_counts())"
   ]
  },
  {
   "cell_type": "code",
   "execution_count": 75,
   "metadata": {},
   "outputs": [
    {
     "data": {
      "text/plain": [
       "27"
      ]
     },
     "execution_count": 75,
     "metadata": {},
     "output_type": "execute_result"
    }
   ],
   "source": [
    "position_s.nunique()"
   ]
  },
  {
   "cell_type": "markdown",
   "metadata": {},
   "source": [
    "# Преобразование серии value_counts в датафрейм"
   ]
  },
  {
   "cell_type": "code",
   "execution_count": 87,
   "metadata": {},
   "outputs": [
    {
     "data": {
      "text/html": [
       "<div>\n",
       "<style scoped>\n",
       "    .dataframe tbody tr th:only-of-type {\n",
       "        vertical-align: middle;\n",
       "    }\n",
       "\n",
       "    .dataframe tbody tr th {\n",
       "        vertical-align: top;\n",
       "    }\n",
       "\n",
       "    .dataframe thead th {\n",
       "        text-align: right;\n",
       "    }\n",
       "</style>\n",
       "<table border=\"1\" class=\"dataframe\">\n",
       "  <thead>\n",
       "    <tr style=\"text-align: right;\">\n",
       "      <th></th>\n",
       "      <th>Nationality</th>\n",
       "      <th>Players</th>\n",
       "    </tr>\n",
       "  </thead>\n",
       "  <tbody>\n",
       "    <tr>\n",
       "      <th>0</th>\n",
       "      <td>England</td>\n",
       "      <td>1368</td>\n",
       "    </tr>\n",
       "    <tr>\n",
       "      <th>1</th>\n",
       "      <td>Germany</td>\n",
       "      <td>919</td>\n",
       "    </tr>\n",
       "    <tr>\n",
       "      <th>2</th>\n",
       "      <td>Spain</td>\n",
       "      <td>671</td>\n",
       "    </tr>\n",
       "    <tr>\n",
       "      <th>3</th>\n",
       "      <td>France</td>\n",
       "      <td>614</td>\n",
       "    </tr>\n",
       "    <tr>\n",
       "      <th>4</th>\n",
       "      <td>Argentina</td>\n",
       "      <td>574</td>\n",
       "    </tr>\n",
       "    <tr>\n",
       "      <th>...</th>\n",
       "      <td>...</td>\n",
       "      <td>...</td>\n",
       "    </tr>\n",
       "    <tr>\n",
       "      <th>151</th>\n",
       "      <td>St Lucia</td>\n",
       "      <td>1</td>\n",
       "    </tr>\n",
       "    <tr>\n",
       "      <th>152</th>\n",
       "      <td>Central African Rep.</td>\n",
       "      <td>1</td>\n",
       "    </tr>\n",
       "    <tr>\n",
       "      <th>153</th>\n",
       "      <td>Oman</td>\n",
       "      <td>1</td>\n",
       "    </tr>\n",
       "    <tr>\n",
       "      <th>154</th>\n",
       "      <td>Guam</td>\n",
       "      <td>1</td>\n",
       "    </tr>\n",
       "    <tr>\n",
       "      <th>155</th>\n",
       "      <td>Palestine</td>\n",
       "      <td>1</td>\n",
       "    </tr>\n",
       "  </tbody>\n",
       "</table>\n",
       "<p>156 rows × 2 columns</p>\n",
       "</div>"
      ],
      "text/plain": [
       "              Nationality  Players\n",
       "0                 England     1368\n",
       "1                 Germany      919\n",
       "2                   Spain      671\n",
       "3                  France      614\n",
       "4               Argentina      574\n",
       "..                    ...      ...\n",
       "151              St Lucia        1\n",
       "152  Central African Rep.        1\n",
       "153                  Oman        1\n",
       "154                  Guam        1\n",
       "155             Palestine        1\n",
       "\n",
       "[156 rows x 2 columns]"
      ]
     },
     "execution_count": 87,
     "metadata": {},
     "output_type": "execute_result"
    }
   ],
   "source": [
    "series = df[\"Nationality\"].value_counts()\n",
    "s_df = series.reset_index()\n",
    "\n",
    "s_df.columns = [\"Nationality\", \"Players\"]\n",
    "s_df\n"
   ]
  },
  {
   "cell_type": "markdown",
   "metadata": {},
   "source": [
    "# Задачи\n",
    "\n",
    "## У какого процента испанских футболистов (Nationality = 'Spain') зарплата (Wage) находится в пределах 25% минимума от наблюдаемого уровня зарплат среди испанских игроков? Ответ дайте в виде целого числа (округлите полученный результат) без знака %."
   ]
  },
  {
   "cell_type": "code",
   "execution_count": 120,
   "metadata": {},
   "outputs": [
    {
     "data": {
      "text/plain": [
       "97"
      ]
     },
     "execution_count": 120,
     "metadata": {},
     "output_type": "execute_result"
    }
   ],
   "source": [
    "spains = df[df.Nationality == \"Spain\"]\n",
    "wage_25_percent_s = spains[\"Wage\"].value_counts(normalize = True, bins = 4)\n",
    "lower_than_25_percent = wage_25_percent_s.iloc[0] * 100\n",
    "lower_than_25_percent = int(lower_than_25_percent)\n",
    "lower_than_25_percent"
   ]
  },
  {
   "cell_type": "markdown",
   "metadata": {},
   "source": [
    "## Укажите количество уникальных сборных (Nationality), к которым относятся футболисты, выступающие за клуб (Club) \"Manchester United\"."
   ]
  },
  {
   "cell_type": "code",
   "execution_count": 124,
   "metadata": {},
   "outputs": [
    {
     "data": {
      "text/plain": [
       "13"
      ]
     },
     "execution_count": 124,
     "metadata": {},
     "output_type": "execute_result"
    }
   ],
   "source": [
    "manchecters = df[df.Club == \"Manchester United\"]\n",
    "unique_nations_value = manchecters[\"Nationality\"].nunique()\n",
    "unique_nations_value"
   ]
  },
  {
   "cell_type": "markdown",
   "metadata": {},
   "source": [
    "## С помощью функции unique определите двух футболистов из Бразилии (Nationality = 'Brazil'), выступающих за клуб (Club) 'Juventus'. Перечислите их имена (Name, как в датафрейме) через запятую в алфавитном порядке."
   ]
  },
  {
   "cell_type": "code",
   "execution_count": 136,
   "metadata": {},
   "outputs": [
    {
     "data": {
      "text/plain": [
       "array(['Alex Sandro', 'Douglas Costa'], dtype=object)"
      ]
     },
     "execution_count": 136,
     "metadata": {},
     "output_type": "execute_result"
    }
   ],
   "source": [
    "brazilians = df[df.Nationality == \"Brazil\"]\n",
    "brazilians = brazilians[brazilians.Club == \"Juventus\"]\n",
    "brazilians = brazilians[\"Name\"].unique()\n",
    "brazilians\n"
   ]
  },
  {
   "cell_type": "markdown",
   "metadata": {},
   "source": [
    "## Укажите, какой из клубов (Club) насчитывает большее количество футболистов возрастом (Age) старше 35 лет."
   ]
  },
  {
   "cell_type": "code",
   "execution_count": 144,
   "metadata": {},
   "outputs": [
    {
     "data": {
      "text/plain": [
       "Hokkaido Consadole Sapporo    4\n",
       "Club Atlético Huracán         4\n",
       "Club Atlético Talleres        3\n",
       "Name: Club, dtype: int64"
      ]
     },
     "execution_count": 144,
     "metadata": {},
     "output_type": "execute_result"
    }
   ],
   "source": [
    "oldfagers = df[df.Age > 35]\n",
    "club = oldfagers[\"Club\"].value_counts().head(3)\n",
    "club"
   ]
  },
  {
   "cell_type": "markdown",
   "metadata": {},
   "source": [
    "## С помощью функции value_counts с параметром bins разбейте всех футболистов сборной Аргентины (Nationality = 'Argentina') на 4 равные группы по возрасту. Сколько футболистов в возрасте от 34,75 до 41 года в сборной Аргентины?"
   ]
  },
  {
   "cell_type": "code",
   "execution_count": 147,
   "metadata": {},
   "outputs": [
    {
     "data": {
      "text/plain": [
       "(22.25, 28.5]      200\n",
       "(15.974, 22.25]    197\n",
       "(28.5, 34.75]      128\n",
       "(34.75, 41.0]       49\n",
       "Name: Age, dtype: int64"
      ]
     },
     "execution_count": 147,
     "metadata": {},
     "output_type": "execute_result"
    }
   ],
   "source": [
    "argentis = df[df.Nationality == \"Argentina\"]\n",
    "argentis[\"Age\"].value_counts(bins = 4)"
   ]
  },
  {
   "cell_type": "markdown",
   "metadata": {},
   "source": [
    "## Сколько процентов футболистов из Испании (Nationality = 'Spain') имеют возраст (Age) 21 год? Введите с точностью до 2 знаков после запятой без указания знака % (например, 12.35)."
   ]
  },
  {
   "cell_type": "code",
   "execution_count": 152,
   "metadata": {},
   "outputs": [
    {
     "data": {
      "text/plain": [
       "21    0.117735\n",
       "22    0.095380\n",
       "20    0.077496\n",
       "23    0.071535\n",
       "25    0.064083\n",
       "27    0.062593\n",
       "24    0.059613\n",
       "28    0.053651\n",
       "26    0.053651\n",
       "29    0.047690\n",
       "19    0.047690\n",
       "18    0.038748\n",
       "30    0.038748\n",
       "31    0.032787\n",
       "32    0.032787\n",
       "33    0.031297\n",
       "34    0.022355\n",
       "17    0.013413\n",
       "35    0.011923\n",
       "36    0.010432\n",
       "37    0.008942\n",
       "39    0.002981\n",
       "16    0.002981\n",
       "38    0.001490\n",
       "Name: Age, dtype: float64"
      ]
     },
     "metadata": {},
     "output_type": "display_data"
    },
    {
     "data": {
      "text/plain": [
       "11.773472429210134"
      ]
     },
     "execution_count": 152,
     "metadata": {},
     "output_type": "execute_result"
    }
   ],
   "source": [
    "spain = df[df.Nationality == \"Spain\"]\n",
    "juniors = spain[\"Age\"].value_counts(normalize = True)\n",
    "display(juniors)\n",
    "juniors.iloc[0] * 100"
   ]
  },
  {
   "cell_type": "markdown",
   "metadata": {},
   "source": [
    "# 7. Функция groupby"
   ]
  },
  {
   "cell_type": "code",
   "execution_count": null,
   "metadata": {},
   "outputs": [],
   "source": []
  }
 ],
 "metadata": {
  "kernelspec": {
   "display_name": "Python 3",
   "language": "python",
   "name": "python3"
  },
  "language_info": {
   "codemirror_mode": {
    "name": "ipython",
    "version": 3
   },
   "file_extension": ".py",
   "mimetype": "text/x-python",
   "name": "python",
   "nbconvert_exporter": "python",
   "pygments_lexer": "ipython3",
   "version": "3.8.5"
  }
 },
 "nbformat": 4,
 "nbformat_minor": 4
}
