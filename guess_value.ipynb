{
 "cells": [
  {
   "cell_type": "markdown",
   "metadata": {},
   "source": [
    "# Угадай число\n",
    "## Цель:\n",
    "- Компьютер загадывает целое число от **MIN** до **MAX**, и нам его нужно угадать.\n",
    "\n",
    "## Способ:\n",
    "- Поиск числа будет осуществлятся методом бинарного поиска"
   ]
  },
  {
   "cell_type": "code",
   "execution_count": 39,
   "metadata": {},
   "outputs": [
    {
     "name": "stdout",
     "output_type": "stream",
     "text": [
      "Загаданное число: 58, найдено за 7 попыток\n"
     ]
    },
    {
     "data": {
      "text/plain": [
       "7"
      ]
     },
     "execution_count": 39,
     "metadata": {},
     "output_type": "execute_result"
    }
   ],
   "source": [
    "import numpy as np\n",
    "\n",
    "\n",
    "def binary_search_game_core(min_value, max_value):\n",
    "    '''\n",
    "    Функция бинарного поиска случайного числа\n",
    "\n",
    "    Parameters:\n",
    "        min_value (int): Нижняя граница отрезка поиска.\n",
    "        max_value (int): Верхняя граница отрезка поиска.\n",
    "\n",
    "    Returns:\n",
    "        attempts(int): Число попыток.   \n",
    "    '''\n",
    "    attempts = 1\n",
    "    guess = np.random.randint(min_value, max_value+1)\n",
    "    median = lambda lo, hi: (lo+hi)//2\n",
    "    predict = median(min_value, max_value)\n",
    "\n",
    "    # цикл поиска случайного числа\n",
    "    while predict != guess:\n",
    "        if predict > guess:\n",
    "            max_value = predict-1\n",
    "        else:\n",
    "            min_value = predict+1\n",
    "\n",
    "        predict = median(min_value, max_value)\n",
    "        attempts += 1\n",
    "\n",
    "    print(\"Загаданное число: {}, найдено за {} попыток\".\n",
    "          format(guess, attempts))\n",
    "    return attempts\n",
    "\n",
    "# определяем границы диапазона  \n",
    "MAX = 100\n",
    "MIN = 1\n",
    "\n",
    "binary_search_game_core(MIN, MAX)\n"
   ]
  },
  {
   "cell_type": "code",
   "execution_count": null,
   "metadata": {},
   "outputs": [],
   "source": []
  }
 ],
 "metadata": {
  "kernelspec": {
   "display_name": "Python 3",
   "language": "python",
   "name": "python3"
  },
  "language_info": {
   "codemirror_mode": {
    "name": "ipython",
    "version": 3
   },
   "file_extension": ".py",
   "mimetype": "text/x-python",
   "name": "python",
   "nbconvert_exporter": "python",
   "pygments_lexer": "ipython3",
   "version": "3.8.3"
  }
 },
 "nbformat": 4,
 "nbformat_minor": 4
}
