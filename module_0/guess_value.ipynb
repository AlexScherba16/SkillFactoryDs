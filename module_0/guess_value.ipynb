{
 "cells": [
  {
   "cell_type": "markdown",
   "metadata": {},
   "source": [
    "# Угадай число\n",
    "## Цель:\n",
    "- Компьютер загадывает целое число от **MIN** до **MAX**, и нам его нужно угадать.\n",
    "\n",
    "## Способ:\n",
    "- Поиск числа будет осуществлятся методом бинарного поиска"
   ]
  },
  {
   "cell_type": "markdown",
   "metadata": {},
   "source": [
    "# Как все устроено\n",
    "\n",
    "В примерах к **Проект 0. Github — Самый быстрый старт**\n",
    "были реализации алгоритмов поиска:\n",
    "- game_core_v1\n",
    "- game_core_v2\n",
    "\n",
    "С разной скоростью поиска (эффективностью).\n",
    "В данном решении используется бинарый поиск - временная сложность данного алгоритма\n",
    "сопоставима с O(log).\n",
    "\n",
    "Архитектурно решение подразумевает наличие различных алгоритмов поиска(game_core), \n",
    "в текущей реализации роль ядра выполняет функция **binary_search_game_core**,\n",
    "каждому ядру прилагается набор настроек:\n",
    "- минимальная/максимальная границы отрезка, в отрезке создаётся случайное число\n",
    "- число итераций\n",
    "\n",
    "Ядро с настройками представляет собой словарь. Список таких ячеек передается в функцию\n",
    "**metric_generator** где происходит запуск ядра, на основании результатов запуска формируется словарь-метрика."
   ]
  },
  {
   "cell_type": "code",
   "execution_count": 5,
   "metadata": {},
   "outputs": [
    {
     "name": "stdout",
     "output_type": "stream",
     "text": [
      "Алгоритм: binary_search_core\n",
      "Итерации: 10000\n",
      "Среднее число попыток: 5\n",
      "\n"
     ]
    }
   ],
   "source": [
    "import numpy as np\n",
    "\n",
    "\n",
    "def binary_search_game_core(min_value, max_value):\n",
    "    '''\n",
    "    Функция бинарного поиска случайного числа\n",
    "\n",
    "    Parameters:\n",
    "        min_value: Нижняя граница отрезка поиска\n",
    "        max_value: Верхняя граница отрезка поиска\n",
    "\n",
    "    Returns:\n",
    "        attempts: Число попыток\n",
    "    '''\n",
    "    attempts = 1\n",
    "    guess = np.random.randint(min_value, max_value+1)\n",
    "    median = lambda lo, hi: (lo+hi)//2\n",
    "    predict = median(min_value, max_value)\n",
    "\n",
    "    # цикл поиска случайного числа\n",
    "    while predict != guess:\n",
    "        if predict > guess:\n",
    "            max_value = predict-1\n",
    "        else:\n",
    "            min_value = predict+1\n",
    "\n",
    "        predict = median(min_value, max_value)\n",
    "        attempts += 1\n",
    "\n",
    "    return attempts\n",
    "\n",
    "\n",
    "def metric_generator(game_core):\n",
    "    '''\n",
    "    Функция генерации метрик запуска игры\n",
    "\n",
    "    Parameters:\n",
    "        game_core: Ядро игры и настройки запуска\n",
    "\n",
    "    Returns:\n",
    "        metrics: Метрики запуска ядра игры\n",
    "    '''\n",
    "    metrics = {}\n",
    "    settings = game_core[\"settings\"]\n",
    "    game = game_core[\"core\"]\n",
    "\n",
    "    count_ls = [\n",
    "        game(settings[\"min\"], settings[\"max\"])\n",
    "        for _ in range(settings[\"iterations\"])\n",
    "    ]\n",
    "\n",
    "    metrics[\"average_attempts\"] = int(np.mean(count_ls))\n",
    "    return metrics\n",
    "\n",
    "\n",
    "game_cores = [\n",
    "    {\n",
    "        \"core_description\": \"binary_search_core\",\n",
    "        \"core\": binary_search_game_core,\n",
    "        \"settings\": {\"min\": 1, \"max\": 100, \"iterations\": 10000},\n",
    "    },\n",
    "]\n",
    "\n",
    "for game in game_cores:\n",
    "    settings = game[\"settings\"]\n",
    "    metric = metric_generator(game)\n",
    "\n",
    "    print(\"Алгоритм: {}\\nИтерации: {}\\nСреднее число попыток: {}\\n\".\n",
    "          format(\n",
    "              game[\"core_description\"],\n",
    "              settings[\"iterations\"],\n",
    "              metric[\"average_attempts\"]\n",
    "          ))\n"
   ]
  }
 ],
 "metadata": {
  "kernelspec": {
   "display_name": "Python 3",
   "language": "python",
   "name": "python3"
  },
  "language_info": {
   "codemirror_mode": {
    "name": "ipython",
    "version": 3
   },
   "file_extension": ".py",
   "mimetype": "text/x-python",
   "name": "python",
   "nbconvert_exporter": "python",
   "pygments_lexer": "ipython3",
   "version": "3.8.3"
  }
 },
 "nbformat": 4,
 "nbformat_minor": 4
}
