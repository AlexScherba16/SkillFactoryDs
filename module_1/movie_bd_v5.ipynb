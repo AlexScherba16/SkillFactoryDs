{
 "cells": [
  {
   "cell_type": "code",
   "execution_count": 1,
   "metadata": {
    "_cell_guid": "b1076dfc-b9ad-4769-8c92-a6c4dae69d19",
    "_uuid": "8f2839f25d086af736a60e9eeb907d3b93b6e0e5",
    "colab": {},
    "colab_type": "code",
    "id": "U2D2gTdJVp90"
   },
   "outputs": [],
   "source": [
    "import numpy as np\n",
    "import pandas as pd\n",
    "import seaborn as sns\n",
    "import matplotlib.pyplot as plt\n",
    "from collections import Counter\n",
    "\n",
    "from itertools import cycle, combinations"
   ]
  },
  {
   "cell_type": "code",
   "execution_count": 2,
   "metadata": {
    "_cell_guid": "79c7e3d0-c299-4dcb-8224-4455121ee9b0",
    "_uuid": "d629ff2d2480ee46fbb7e2d37f6b5fab8052498a",
    "colab": {},
    "colab_type": "code",
    "id": "oyGfxL3eVp9-"
   },
   "outputs": [],
   "source": [
    "data = pd.read_csv('movie_bd_v5.csv')\n",
    "#data.sample(5)"
   ]
  },
  {
   "cell_type": "code",
   "execution_count": 3,
   "metadata": {
    "colab": {},
    "colab_type": "code",
    "id": "CoYUnagMVp-C"
   },
   "outputs": [],
   "source": [
    "#data.describe()"
   ]
  },
  {
   "cell_type": "markdown",
   "metadata": {
    "colab_type": "text",
    "id": "DTIt7ezGVp-G"
   },
   "source": [
    "# Предобработка"
   ]
  },
  {
   "cell_type": "code",
   "execution_count": 4,
   "metadata": {
    "colab": {},
    "colab_type": "code",
    "id": "jNb40DwKVp-H"
   },
   "outputs": [],
   "source": [
    "def count_genres(genres_series_list):\n",
    "    cnt = Counter()\n",
    "    for genre_list in genres_series_list:\n",
    "        for genre in genre_list:\n",
    "            cnt[genre] += 1\n",
    "    return cnt\n",
    "\n",
    "\n",
    "answers = {} # создадим словарь для ответов\n",
    "\n",
    "# тут другие ваши предобработки колонок например:\n",
    "data['profit'] = data['revenue'] - data['budget']\n",
    "data[\"cast\"] = data[\"cast\"].apply(lambda x : x.split(\"|\"))\n",
    "data[\"genres\"] = data[\"genres\"].apply(lambda x : x.split(\"|\"))\n",
    "data[\"director\"] = data[\"director\"].apply(lambda x : x.split(\"|\"))\n",
    "data[\"production_companies\"] = data[\"production_companies\"].apply(lambda x : x.split(\"|\"))\n",
    "data[\"release_date\"] = data[\"release_date\"].apply(lambda x : x.split(\"/\"))\n",
    "\n",
    "\n",
    "#the time given in the dataset is in string format.\n",
    "#So we need to change this in datetime format\n",
    "# ..."
   ]
  },
  {
   "cell_type": "markdown",
   "metadata": {
    "colab_type": "text",
    "id": "YxZaH-nPVp-L"
   },
   "source": [
    "# 1. У какого фильма из списка самый большой бюджет?"
   ]
  },
  {
   "cell_type": "code",
   "execution_count": 5,
   "metadata": {
    "colab": {},
    "colab_type": "code",
    "id": "dZwb3m28Vp-S"
   },
   "outputs": [],
   "source": [
    "max_budget_df = data[data.budget == data['budget'].max()]\n",
    "film_name = max_budget_df['original_title'].iloc[0]\n",
    "film_id = max_budget_df['imdb_id'].iloc[0]\n",
    "result = \"{} {}\".format(film_name,film_id)\n",
    "\n",
    "answers['1'] = result"
   ]
  },
  {
   "cell_type": "markdown",
   "metadata": {
    "colab_type": "text",
    "id": "FNRbbI3vVp-c"
   },
   "source": [
    "# 2. Какой из фильмов самый длительный (в минутах)?"
   ]
  },
  {
   "cell_type": "code",
   "execution_count": 6,
   "metadata": {
    "colab": {},
    "colab_type": "code",
    "id": "vHAoEXNTVp-d"
   },
   "outputs": [],
   "source": [
    "max_runtime_df = data[data.runtime == data['runtime'].max()]\n",
    "film_name = max_runtime_df['original_title'].iloc[0]\n",
    "film_id = max_runtime_df['imdb_id'].iloc[0]\n",
    "result = \"{} {}\".format(film_name,film_id)\n",
    "\n",
    "answers['2'] = result"
   ]
  },
  {
   "cell_type": "markdown",
   "metadata": {
    "colab_type": "text",
    "id": "bapLlpW8Vp-k"
   },
   "source": [
    "# 3. Какой из фильмов самый короткий (в минутах)?\n",
    "\n",
    "\n",
    "\n"
   ]
  },
  {
   "cell_type": "code",
   "execution_count": 7,
   "metadata": {
    "colab": {},
    "colab_type": "code",
    "id": "YBxaSHuAVp-l"
   },
   "outputs": [],
   "source": [
    "min_runtime_df = data[data.runtime == data['runtime'].min()]\n",
    "film_name = min_runtime_df['original_title'].iloc[0]\n",
    "film_id = max_runtime_df['imdb_id'].iloc[0]\n",
    "result = \"{} {}\".format(film_name,film_id)\n",
    "\n",
    "answers['3'] = result"
   ]
  },
  {
   "cell_type": "markdown",
   "metadata": {
    "colab_type": "text",
    "id": "TfQbxbfNVp-p"
   },
   "source": [
    "# 4. Какова средняя длительность фильмов?\n"
   ]
  },
  {
   "cell_type": "code",
   "execution_count": 8,
   "metadata": {
    "colab": {},
    "colab_type": "code",
    "id": "5K6dKZYVVp-q"
   },
   "outputs": [],
   "source": [
    "mean_film_runtime = data['runtime'].mean()\n",
    "\n",
    "answers['4'] = round(mean_film_runtime)"
   ]
  },
  {
   "cell_type": "markdown",
   "metadata": {
    "colab_type": "text",
    "id": "r5TvbnT_Vp-u"
   },
   "source": [
    "# 5. Каково медианное значение длительности фильмов? "
   ]
  },
  {
   "cell_type": "code",
   "execution_count": 9,
   "metadata": {
    "colab": {},
    "colab_type": "code",
    "id": "iBROplKnVp-v"
   },
   "outputs": [],
   "source": [
    "median_film_runtime = data['runtime'].median()\n",
    "\n",
    "answers['5'] = round(median_film_runtime)"
   ]
  },
  {
   "cell_type": "markdown",
   "metadata": {
    "colab_type": "text",
    "id": "39P-deDSVp-y"
   },
   "source": [
    "# 6. Какой самый прибыльный фильм?\n",
    "#### Внимание! Здесь и далее под «прибылью» или «убытками» понимается разность между сборами и бюджетом фильма. (прибыль = сборы - бюджет) в нашем датасете это будет (profit = revenue - budget) "
   ]
  },
  {
   "cell_type": "code",
   "execution_count": 10,
   "metadata": {
    "colab": {},
    "colab_type": "code",
    "id": "UYZh4T9WVp-y"
   },
   "outputs": [],
   "source": [
    "max_profit_df = data[data.profit == data['profit'].max()]\n",
    "film_name = max_profit_df['original_title'].iloc[0]\n",
    "film_id = max_profit_df['imdb_id'].iloc[0]\n",
    "result = \"{} {}\".format(film_name,film_id)\n",
    "\n",
    "answers['6'] = result "
   ]
  },
  {
   "cell_type": "markdown",
   "metadata": {
    "colab_type": "text",
    "id": "M99JmIX4Vp-2"
   },
   "source": [
    "# 7. Какой фильм самый убыточный? "
   ]
  },
  {
   "cell_type": "code",
   "execution_count": 11,
   "metadata": {
    "colab": {},
    "colab_type": "code",
    "id": "w-D2m4XPVp-3"
   },
   "outputs": [],
   "source": [
    "min_profit_df = data[data.profit == data['profit'].min()]\n",
    "film_name = min_profit_df['original_title'].iloc[0]\n",
    "film_id = min_profit_df['imdb_id'].iloc[0]\n",
    "result = \"{} {}\".format(film_name,film_id)\n",
    "\n",
    "answers['7'] = result "
   ]
  },
  {
   "cell_type": "markdown",
   "metadata": {
    "colab_type": "text",
    "id": "wEOM5ERVVp-6"
   },
   "source": [
    "# 8. У скольких фильмов из датасета объем сборов оказался выше бюджета?"
   ]
  },
  {
   "cell_type": "code",
   "execution_count": 12,
   "metadata": {
    "colab": {},
    "colab_type": "code",
    "id": "y00_7HD6Vp-7"
   },
   "outputs": [],
   "source": [
    "paid_off_df = data.query(\"revenue > budget\")\n",
    "\n",
    "answers['8'] = len(paid_off_df)"
   ]
  },
  {
   "cell_type": "markdown",
   "metadata": {
    "colab_type": "text",
    "id": "xhpspA9KVp_A"
   },
   "source": [
    "# 9. Какой фильм оказался самым кассовым в 2008 году?"
   ]
  },
  {
   "cell_type": "code",
   "execution_count": 13,
   "metadata": {
    "colab": {},
    "colab_type": "code",
    "id": "MoUyQr9RVp_B"
   },
   "outputs": [],
   "source": [
    "in2008_df = data.query(\"release_year == 2008\")\n",
    "max_df = in2008_df[in2008_df.profit == in2008_df['profit'].max()]\n",
    "\n",
    "film_name = max_df['original_title'].iloc[0]\n",
    "film_id = max_df['imdb_id'].iloc[0]\n",
    "result = \"{} {}\".format(film_name,film_id)\n",
    "\n",
    "answers['9'] = result"
   ]
  },
  {
   "cell_type": "markdown",
   "metadata": {
    "colab_type": "text",
    "id": "Zi4hDKidVp_F"
   },
   "source": [
    "# 10. Самый убыточный фильм за период с 2012 по 2014 г. (включительно)?\n"
   ]
  },
  {
   "cell_type": "code",
   "execution_count": 14,
   "metadata": {
    "colab": {},
    "colab_type": "code",
    "id": "XqyRmufJVp_F"
   },
   "outputs": [],
   "source": [
    "in2012_2014_df = data.query(\"2012 <= release_year <= 2014\")\n",
    "min_df = in2012_2014_df[in2012_2014_df.profit == in2012_2014_df['profit'].min()]\n",
    "\n",
    "film_name = min_df['original_title'].iloc[0]\n",
    "film_id = min_df['imdb_id'].iloc[0]\n",
    "result = \"{} {}\".format(film_name,film_id)\n",
    "\n",
    "answers['10'] = result"
   ]
  },
  {
   "cell_type": "markdown",
   "metadata": {
    "colab_type": "text",
    "id": "EA7Sa9dkVp_I"
   },
   "source": [
    "# 11. Какого жанра фильмов больше всего?"
   ]
  },
  {
   "cell_type": "code",
   "execution_count": 15,
   "metadata": {
    "colab": {},
    "colab_type": "code",
    "id": "zsJAwJ8QVp_J"
   },
   "outputs": [],
   "source": [
    "raw_genres = data[\"genres\"]\n",
    "counter = count_genres(raw_genres.to_list())\n",
    "\n",
    "answers['11'] = counter.most_common(1)[0][0]"
   ]
  },
  {
   "cell_type": "markdown",
   "metadata": {
    "colab_type": "text",
    "id": "T9_bPWpkVp_Q"
   },
   "source": [
    "# 12. Фильмы какого жанра чаще всего становятся прибыльными? "
   ]
  },
  {
   "cell_type": "code",
   "execution_count": 35,
   "metadata": {
    "colab": {},
    "colab_type": "code",
    "id": "Tmt8MaK1Vp_R"
   },
   "outputs": [
    {
     "data": {
      "text/plain": [
       "'Adventure'"
      ]
     },
     "execution_count": 35,
     "metadata": {},
     "output_type": "execute_result"
    }
   ],
   "source": [
    "exploded = data.explode(\"genres\")\n",
    "data_profit = exploded.query(\"profit > 0\")\n",
    "genres_profit = data_profit.groupby([\"genres\"]).sum()\n",
    "max_profit_genres = genres_profit[\"profit\"].sort_values(ascending = False)\n",
    "answers['12'] = max_profit_genres.index[0]\n",
    "\n",
    "answers['12']"
   ]
  },
  {
   "cell_type": "markdown",
   "metadata": {
    "colab_type": "text",
    "id": "0F23bgsDVp_U"
   },
   "source": [
    "# 13. У какого режиссера самые большие суммарные кассовые сборы?"
   ]
  },
  {
   "cell_type": "code",
   "execution_count": 17,
   "metadata": {
    "colab": {},
    "colab_type": "code",
    "id": "K6Z3J8ygVp_X"
   },
   "outputs": [],
   "source": [
    "director_expoloded = data.explode(\"director\")\n",
    "positive_profit = director_expoloded.query(\"profit > 0\")\n",
    "director_profit = positive_profit.groupby([\"director\"]).sum()\n",
    "max_profit_directors = director_profit[\"profit\"].sort_values(ascending = False)\n",
    "\n",
    "answers['13'] = max_profit_directors.index[0]"
   ]
  },
  {
   "cell_type": "markdown",
   "metadata": {
    "colab_type": "text",
    "id": "PsYC9FgRVp_a"
   },
   "source": [
    "# 14. Какой режисер снял больше всего фильмов в стиле Action?"
   ]
  },
  {
   "cell_type": "code",
   "execution_count": 18,
   "metadata": {
    "colab": {},
    "colab_type": "code",
    "id": "wd2M-wHeVp_b"
   },
   "outputs": [],
   "source": [
    "genres_exploded = data.explode(\"genres\")\n",
    "action_genre = genres_exploded.query(\"genres == \\\"Action\\\"\")\n",
    "directors_explode = action_genre.explode(\"director\")\n",
    "directors = directors_explode[\"director\"].value_counts()\n",
    "\n",
    "answers['14'] = directors.index[0]"
   ]
  },
  {
   "cell_type": "markdown",
   "metadata": {
    "colab_type": "text",
    "id": "PQ0KciD7Vp_f"
   },
   "source": [
    "# 15. Фильмы с каким актером принесли самые высокие кассовые сборы в 2012 году? "
   ]
  },
  {
   "cell_type": "code",
   "execution_count": 19,
   "metadata": {
    "colab": {},
    "colab_type": "code",
    "id": "aga62oeKVp_g"
   },
   "outputs": [],
   "source": [
    "actors_exploded = data.explode(\"cast\")\n",
    "in_2012 = actors_exploded.query(\"release_year == 2012 & profit > 0\")\n",
    "profit_actors = in_2012.groupby([\"cast\"]).sum()['profit'].sort_values(ascending = False).head(5)\n",
    "\n",
    "answers['15'] = profit_actors.index[0]"
   ]
  },
  {
   "cell_type": "markdown",
   "metadata": {
    "colab_type": "text",
    "id": "mWHyyL7QVp_j"
   },
   "source": [
    "# 16. Какой актер снялся в большем количестве высокобюджетных фильмов?\n",
    "Примечание: в фильмах, где бюджет выше среднего по данной выборке."
   ]
  },
  {
   "cell_type": "code",
   "execution_count": 20,
   "metadata": {
    "colab": {},
    "colab_type": "code",
    "id": "qQtmHKTFVp_k"
   },
   "outputs": [],
   "source": [
    "actors_exploded = data.explode(\"cast\")\n",
    "mean_budget = actors_exploded[\"budget\"].mean()\n",
    "above_mean_budget = actors_exploded[actors_exploded.budget > mean_budget]\n",
    "actors = above_mean_budget[\"cast\"].value_counts().head(5)\n",
    "\n",
    "answers['16'] = actors.index[0]"
   ]
  },
  {
   "cell_type": "markdown",
   "metadata": {
    "colab_type": "text",
    "id": "NIh6AaW5Vp_n"
   },
   "source": [
    "# 17. В фильмах какого жанра больше всего снимался Nicolas Cage? "
   ]
  },
  {
   "cell_type": "code",
   "execution_count": 21,
   "metadata": {
    "colab": {},
    "colab_type": "code",
    "id": "H74SJDIBVp_n"
   },
   "outputs": [],
   "source": [
    "actors_exploded = data.explode(\"cast\")\n",
    "nicolas = actors_exploded.query(\"cast == \\\"Nicolas Cage\\\"\")\n",
    "nicolas_genres = nicolas.explode(\"genres\")[\"genres\"].value_counts().head(5)\n",
    "\n",
    "answers['17'] = nicolas_genres.index[0]"
   ]
  },
  {
   "cell_type": "markdown",
   "metadata": {
    "colab_type": "text",
    "id": "RqOmPRfWVp_q"
   },
   "source": [
    "# 18. Самый убыточный фильм от Paramount Pictures"
   ]
  },
  {
   "cell_type": "code",
   "execution_count": 22,
   "metadata": {
    "colab": {},
    "colab_type": "code",
    "id": "9E_B0Y96Vp_r"
   },
   "outputs": [],
   "source": [
    "companies = data.explode(\"production_companies\")\n",
    "paramount = companies.query(\"production_companies == \\\"Paramount Pictures\\\"\")\n",
    "paramount_films = paramount.sort_values('profit').head()\n",
    "\n",
    "film_name = paramount_films['original_title'].iloc[0]\n",
    "film_id = paramount_films['imdb_id'].iloc[0]\n",
    "\n",
    "answers['18'] = \"{} ({})\".format(film_name,film_id)"
   ]
  },
  {
   "cell_type": "markdown",
   "metadata": {
    "colab_type": "text",
    "id": "vS8Ur6ddVp_u"
   },
   "source": [
    "# 19. Какой год стал самым успешным по суммарным кассовым сборам?"
   ]
  },
  {
   "cell_type": "code",
   "execution_count": 23,
   "metadata": {
    "colab": {},
    "colab_type": "code",
    "id": "Dnbt4GdIVp_v"
   },
   "outputs": [],
   "source": [
    "years_revenue = data.groupby([\"release_year\"]).sum()\n",
    "sort = years_revenue.sort_values(\"revenue\", ascending = False).head(5)\n",
    "\n",
    "answers['19'] = sort.index[0]"
   ]
  },
  {
   "cell_type": "markdown",
   "metadata": {
    "colab_type": "text",
    "id": "JAzJh4QAVp_z"
   },
   "source": [
    "# 20. Какой самый прибыльный год для студии Warner Bros?"
   ]
  },
  {
   "cell_type": "code",
   "execution_count": 24,
   "metadata": {
    "colab": {},
    "colab_type": "code",
    "id": "wgVu02DEVp_0"
   },
   "outputs": [],
   "source": [
    "companies = data.explode(\"production_companies\")\n",
    "warner = companies[companies.production_companies.str.contains(\"Warner\")]\n",
    "years_profit = warner.groupby([\"release_year\"]).sum()\n",
    "sort = years_profit.sort_values(\"profit\", ascending = False).head(5)\n",
    "\n",
    "answers['20'] = sort.index[0]"
   ]
  },
  {
   "cell_type": "markdown",
   "metadata": {
    "colab_type": "text",
    "id": "8Im1S2HRVp_4"
   },
   "source": [
    "# 21. В каком месяце за все годы суммарно вышло больше всего фильмов?"
   ]
  },
  {
   "cell_type": "code",
   "execution_count": 25,
   "metadata": {
    "colab": {},
    "colab_type": "code",
    "id": "lev6TH7gVp_4"
   },
   "outputs": [],
   "source": [
    "movies = data\n",
    "movies[\"month\"] = movies[\"release_date\"].apply(lambda x: x[0]) \n",
    "movies_pivot = movies.pivot_table(columns = \"month\", index = \"original_title\", values = \"imdb_id\",\n",
    "                                 aggfunc = \"count\", fill_value = 0)\n",
    "months = movies_pivot.sum().sort_values(ascending=False).head(3)\n",
    "\n",
    "answers['21'] = months.index[0]"
   ]
  },
  {
   "cell_type": "markdown",
   "metadata": {
    "colab_type": "text",
    "id": "uAJsZ_NeVp_7"
   },
   "source": [
    "# 22. Сколько суммарно вышло фильмов летом? (за июнь, июль, август)"
   ]
  },
  {
   "cell_type": "code",
   "execution_count": 26,
   "metadata": {
    "colab": {},
    "colab_type": "code",
    "id": "Aa-hEREoVp_8"
   },
   "outputs": [],
   "source": [
    "movies = data\n",
    "movies[\"month\"] = movies[\"release_date\"].apply(lambda x: x[0])\n",
    "summer = movies[movies[\"month\"].isin([\"6\", \"7\", \"8\"])]\n",
    "\n",
    "answers['22'] = len(summer[\"month\"])"
   ]
  },
  {
   "cell_type": "markdown",
   "metadata": {
    "colab_type": "text",
    "id": "G94ppOY1VqAA"
   },
   "source": [
    "# 23. Для какого режиссера зима – самое продуктивное время года? "
   ]
  },
  {
   "cell_type": "code",
   "execution_count": 27,
   "metadata": {
    "colab": {},
    "colab_type": "code",
    "id": "RhNTsamuVqAB"
   },
   "outputs": [],
   "source": [
    "directors_explode = data.explode(\"director\")\n",
    "directors_explode[\"month\"] = directors_explode[\"release_date\"].apply(lambda x: x[0])\n",
    "winter = directors_explode[directors_explode[\"month\"].isin([\"12\", \"1\", \"2\"])]\n",
    "directors = winter[\"director\"].value_counts().head(5)\n",
    "\n",
    "answers['23'] = directors.index[0]"
   ]
  },
  {
   "cell_type": "markdown",
   "metadata": {
    "colab_type": "text",
    "id": "RBo0JVjVVqAF"
   },
   "source": [
    "# 24. Какая студия дает самые длинные названия своим фильмам по количеству символов?"
   ]
  },
  {
   "cell_type": "code",
   "execution_count": 28,
   "metadata": {
    "colab": {},
    "colab_type": "code",
    "id": "QRGS8L0iVqAG"
   },
   "outputs": [],
   "source": [
    "companies = data.explode(\"production_companies\")\n",
    "companies[\"title_len\"] = companies[\"original_title\"].apply(lambda title: len(title))\n",
    "max_title = companies.query(\"title_len == title_len.max()\")\n",
    "\n",
    "answers['24'] = max_title[\"production_companies\"].iloc[1]"
   ]
  },
  {
   "cell_type": "markdown",
   "metadata": {
    "colab_type": "text",
    "id": "9G0hbvR7VqAK"
   },
   "source": [
    "# 25. Описание фильмов какой студии в среднем самые длинные по количеству слов?"
   ]
  },
  {
   "cell_type": "code",
   "execution_count": 29,
   "metadata": {
    "colab": {},
    "colab_type": "code",
    "id": "Ge2GsLNxVqAK"
   },
   "outputs": [],
   "source": [
    "companies = data.explode(\"production_companies\")\n",
    "companies[\"overview_words\"] = companies[\"overview\"].str.split().apply(len)\n",
    "mean = companies.groupby(\"production_companies\")[\"overview_words\"].mean().sort_values().tail(1)\n",
    "\n",
    "answers['25'] = mean.index[0]"
   ]
  },
  {
   "cell_type": "markdown",
   "metadata": {
    "colab_type": "text",
    "id": "FJ1AFt90VqAP"
   },
   "source": [
    "# 26. Какие фильмы входят в 1 процент лучших по рейтингу? \n",
    "по vote_average"
   ]
  },
  {
   "cell_type": "code",
   "execution_count": 30,
   "metadata": {
    "colab": {},
    "colab_type": "code",
    "id": "8qmJVq4CVqAQ"
   },
   "outputs": [],
   "source": [
    "one_percent = data.sort_values('vote_average').tail(int(data.original_title.count()/100)).original_title\n",
    "answers['26'] = one_percent.tolist()"
   ]
  },
  {
   "cell_type": "markdown",
   "metadata": {
    "colab_type": "text",
    "id": "MdXsUXbCVqAV"
   },
   "source": [
    "# 27. Какие актеры чаще всего снимаются в одном фильме вместе?\n"
   ]
  },
  {
   "cell_type": "code",
   "execution_count": 31,
   "metadata": {
    "colab_type": "text",
    "id": "4ymnxEVoVqAW"
   },
   "outputs": [],
   "source": [
    "raw_df = pd.read_csv('movie_bd_v5.csv')\n",
    "raw_df['cast'] = raw_df['cast'].str.split('|')\n",
    "cast_df = raw_df['cast'].reset_index()\n",
    "cast_df['pairs'] = cast_df['cast'].apply(lambda cast_list: list(combinations(cast_list, 2)))\n",
    "exploded_pairs = cast_df.explode('pairs').reset_index()\n",
    "\n",
    "answers['27'] = Counter(exploded_pairs['pairs']).most_common(1)[0][0]"
   ]
  },
  {
   "cell_type": "markdown",
   "metadata": {
    "colab_type": "text",
    "id": "U0nONFnGVqAX"
   },
   "source": [
    "# Submission"
   ]
  },
  {
   "cell_type": "code",
   "execution_count": 32,
   "metadata": {
    "colab": {},
    "colab_type": "code",
    "id": "IfcaRO9-VqAX",
    "outputId": "0f132912-32bb-4196-c98c-abfbc4ad5a5f"
   },
   "outputs": [
    {
     "data": {
      "text/plain": [
       "{'1': 'Pirates of the Caribbean: On Stranger Tides tt1298650',\n",
       " '2': 'Gods and Generals tt0279111',\n",
       " '3': 'Winnie the Pooh tt0279111',\n",
       " '4': 110,\n",
       " '5': 107,\n",
       " '6': 'Avatar tt0499549',\n",
       " '7': 'The Lone Ranger tt1210819',\n",
       " '8': 1478,\n",
       " '9': 'The Dark Knight tt0468569',\n",
       " '10': 'The Lone Ranger tt1210819',\n",
       " '11': 'Drama',\n",
       " '13': 'Peter Jackson',\n",
       " '14': 'Robert Rodriguez',\n",
       " '15': 'Chris Hemsworth',\n",
       " '16': 'Matt Damon',\n",
       " '17': 'Action',\n",
       " '18': 'K-19: The Widowmaker (tt0267626)',\n",
       " '19': 2015,\n",
       " '20': 2014,\n",
       " '21': '9',\n",
       " '22': 450,\n",
       " '23': 'Peter Jackson',\n",
       " '24': 'Four By Two Productions',\n",
       " '25': 'Midnight Picture Show',\n",
       " '26': ['The Theory of Everything',\n",
       "  'The Lord of the Rings: The Two Towers',\n",
       "  'There Will Be Blood',\n",
       "  'Mr. Nobody',\n",
       "  '12 Years a Slave',\n",
       "  'The Pianist',\n",
       "  'Gone Girl',\n",
       "  'Memento',\n",
       "  'Guardians of the Galaxy',\n",
       "  'Inception',\n",
       "  'The Wolf of Wall Street',\n",
       "  'The Grand Budapest Hotel',\n",
       "  'The Lord of the Rings: The Return of the King',\n",
       "  'Room',\n",
       "  'Interstellar',\n",
       "  'Inside Out',\n",
       "  'The Imitation Game',\n",
       "  'The Dark Knight'],\n",
       " '27': ('Daniel Radcliffe', 'Rupert Grint')}"
      ]
     },
     "execution_count": 32,
     "metadata": {},
     "output_type": "execute_result"
    }
   ],
   "source": [
    "# в конце можно посмотреть свои ответы к каждому вопросу\n",
    "answers"
   ]
  },
  {
   "cell_type": "code",
   "execution_count": 33,
   "metadata": {
    "colab": {},
    "colab_type": "code",
    "id": "SiRmHPl8VqAd"
   },
   "outputs": [
    {
     "data": {
      "text/plain": [
       "26"
      ]
     },
     "execution_count": 33,
     "metadata": {},
     "output_type": "execute_result"
    }
   ],
   "source": [
    "len(answers)"
   ]
  }
 ],
 "metadata": {
  "colab": {
   "name": "Copy of [SF-DST] Movies IMBD v4.1 TEMPLATE.ipynb",
   "provenance": []
  },
  "kernelspec": {
   "display_name": "Python 3",
   "language": "python",
   "name": "python3"
  },
  "language_info": {
   "codemirror_mode": {
    "name": "ipython",
    "version": 3
   },
   "file_extension": ".py",
   "mimetype": "text/x-python",
   "name": "python",
   "nbconvert_exporter": "python",
   "pygments_lexer": "ipython3",
   "version": "3.8.5"
  }
 },
 "nbformat": 4,
 "nbformat_minor": 1
}
